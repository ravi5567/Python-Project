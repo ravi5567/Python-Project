{
  "nbformat": 4,
  "nbformat_minor": 0,
  "metadata": {
    "kernelspec": {
      "name": "python3",
      "display_name": "Python 3",
      "language": "python"
    },
    "language_info": {
      "name": "python",
      "version": "3.6.6",
      "mimetype": "text/x-python",
      "codemirror_mode": {
        "name": "ipython",
        "version": 3
      },
      "pygments_lexer": "ipython3",
      "nbconvert_exporter": "python",
      "file_extension": ".py"
    },
    "colab": {
      "name": "Zomato Sentiment Analysis.ipynb",
      "provenance": [],
      "collapsed_sections": [
        "E9QUyMqy2rwb",
        "PhBgKuQc2rwo",
        "kyKadAhG2rwt",
        "H99oQFNa2rwv",
        "Opgr4erW2rw0",
        "WvMBxKcY2rw7"
      ]
    }
  },
  "cells": [
    {
      "cell_type": "markdown",
      "metadata": {
        "id": "ERuT4RW_2rvw",
        "colab_type": "text"
      },
      "source": [
        "# Simple LSTM baseline for predicting review scores\n",
        "\n",
        "## Introduction\n",
        "### Context\n",
        "Bangalore is the capital and largest city of the Indian state of Karnataka. With a population of over 15 million, Bangalore is the third largest city in India and 27th largest city in the world.\n",
        "\n",
        "Bangalore has a unique food culture. Restaurants from all over the world can be found here in Bangalore, with various kind of cuisines.With each day new restaurants adding up to the industry and the demand is increasing day by day so it is useful to get some interesting facts and figures about the restaurants.\n",
        "\n",
        "![Zomato](https://www.sentinelassam.com/wp-content/uploads/2019/10/chennai-has-highest-zomato-female-delivery-partners-1280x720-e1570185357911.jpg)\n",
        "\n",
        "### Problem\n",
        "The basic idea of analyzing the Zomato dataset is to get a fair idea about the factors affecting the establishment of different types of the restaurant at different places in Bengaluru, aggregate rating of each restaurant, Bengaluru being one such city has more than 12,000 restaurants with restaurants serving dishes from all over the world. With each day new restaurants opening the industry hasn't been saturated yet and the demand is increasing day by day. Inspite of increasing demand it, however, has become difficult for new restaurants to compete with established restaurants. Most of them serving the same food. Bengaluru being an IT capital of India. Most of the people here are dependent mainly on the restaurant food as they don’t have time to cook for themselves.\n",
        "\n",
        "\n",
        "### What is sentiment analysis?\n",
        "Sentiment analysis is the computational task of automatically determining what feelings a writer is expressing in text. Sentiment is often framed as a binary distinction (positive vs. negative), but it can also be a more fine-grained, like identifying the specific emotion an author is expressing (like fear, joy or anger).\n",
        "\n",
        "Sentiment analysis is used for many applications, especially in business intelligence. Some examples of applications for sentiment analysis include:\n",
        "\n",
        "#### Analyzing the social media discussion around a certain topic\n",
        " - Evaluating survey responses\n",
        " - Determining whether product reviews are positive or negative\n",
        " - Sentiment analysis is not perfect, and as with any automatic analysis of language, you will have errors in your results. It also cannot tell you why a writer is feeling a certain way. However, it can be useful to quickly summarize some qualities of text, especially if you have so much text that a human reader cannot analyze all of it.\n",
        "\n",
        "For this project,the goal is to analyzing the Zomato Bangalore dataset is to understand people’s choice of cuisine,dining type,preference for location according to price etc.\n",
        "\n",
        "\n",
        "In this notebook, we will go through:\n",
        "\n",
        "1. **Preprocessing** - Load the dataset, retrieve the reviews (aka documents) and scores, encode the target (scores) and split into a training and test set.\n",
        "2. **Training Model** - We will train a simple LSTM model that will predict the rating based solely on the review comments.\n",
        "3. **Evaluation** - We will plot the loss and accuracy progression through epochs, and display the classification results as a table."
      ]
    },
    {
      "cell_type": "code",
      "metadata": {
        "_uuid": "8f2839f25d086af736a60e9eeb907d3b93b6e0e5",
        "_cell_guid": "b1076dfc-b9ad-4769-8c92-a6c4dae69d19",
        "trusted": true,
        "id": "DZx9PHee2rvx",
        "colab_type": "code",
        "colab": {},
        "outputId": "e575a4f7-6a29-4128-88e0-6cd3ab8a6c6a"
      },
      "source": [
        "import json\n",
        "import re\n",
        "\n",
        "import numpy as np \n",
        "import pandas as pd\n",
        "from keras.models import Model\n",
        "from keras.layers import Input, Dense, Embedding, SpatialDropout1D, add, concatenate\n",
        "from keras.layers import CuDNNLSTM, Bidirectional, GlobalMaxPooling1D, GlobalAveragePooling1D\n",
        "from keras.callbacks import Callback, ModelCheckpoint\n",
        "from keras.preprocessing import text, sequence\n",
        "from keras.utils import to_categorical\n",
        "from sklearn.model_selection import train_test_split\n",
        "from sklearn.metrics import classification_report\n",
        "from tqdm import tqdm\n",
        "import warnings\n",
        "warnings.filterwarnings('ignore')"
      ],
      "execution_count": null,
      "outputs": [
        {
          "output_type": "stream",
          "text": [
            "Using TensorFlow backend.\n"
          ],
          "name": "stderr"
        }
      ]
    },
    {
      "cell_type": "code",
      "metadata": {
        "trusted": true,
        "id": "lrQkT_hz2rv1",
        "colab_type": "code",
        "colab": {}
      },
      "source": [
        "tqdm.pandas()"
      ],
      "execution_count": null,
      "outputs": []
    },
    {
      "cell_type": "markdown",
      "metadata": {
        "id": "Wiad5mTh2rv4",
        "colab_type": "text"
      },
      "source": [
        "# Preprocessing"
      ]
    },
    {
      "cell_type": "markdown",
      "metadata": {
        "id": "vQCS_O682rv4",
        "colab_type": "text"
      },
      "source": [
        "## Loading data"
      ]
    },
    {
      "cell_type": "code",
      "metadata": {
        "_cell_guid": "79c7e3d0-c299-4dcb-8224-4455121ee9b0",
        "_uuid": "d629ff2d2480ee46fbb7e2d37f6b5fab8052498a",
        "trusted": true,
        "id": "6qgWAkjN2rv4",
        "colab_type": "code",
        "colab": {},
        "outputId": "cca2553b-dfa3-44f5-829b-5ca39e699a53"
      },
      "source": [
        "zomato_orgnl = pd.read_csv('../input/zomato-bangalore-restaurants/zomato.csv')\n",
        "\n",
        "print(zomato_orgnl.shape)\n",
        "zomato_orgnl.head()"
      ],
      "execution_count": null,
      "outputs": [
        {
          "output_type": "stream",
          "text": [
            "(51717, 17)\n"
          ],
          "name": "stdout"
        },
        {
          "output_type": "execute_result",
          "data": {
            "text/plain": [
              "                                                 url       ...       listed_in(city)\n",
              "0  https://www.zomato.com/bangalore/jalsa-banasha...       ...          Banashankari\n",
              "1  https://www.zomato.com/bangalore/spice-elephan...       ...          Banashankari\n",
              "2  https://www.zomato.com/SanchurroBangalore?cont...       ...          Banashankari\n",
              "3  https://www.zomato.com/bangalore/addhuri-udupi...       ...          Banashankari\n",
              "4  https://www.zomato.com/bangalore/grand-village...       ...          Banashankari\n",
              "\n",
              "[5 rows x 17 columns]"
            ],
            "text/html": [
              "<div>\n",
              "<style scoped>\n",
              "    .dataframe tbody tr th:only-of-type {\n",
              "        vertical-align: middle;\n",
              "    }\n",
              "\n",
              "    .dataframe tbody tr th {\n",
              "        vertical-align: top;\n",
              "    }\n",
              "\n",
              "    .dataframe thead th {\n",
              "        text-align: right;\n",
              "    }\n",
              "</style>\n",
              "<table border=\"1\" class=\"dataframe\">\n",
              "  <thead>\n",
              "    <tr style=\"text-align: right;\">\n",
              "      <th></th>\n",
              "      <th>url</th>\n",
              "      <th>address</th>\n",
              "      <th>name</th>\n",
              "      <th>online_order</th>\n",
              "      <th>book_table</th>\n",
              "      <th>rate</th>\n",
              "      <th>votes</th>\n",
              "      <th>phone</th>\n",
              "      <th>location</th>\n",
              "      <th>rest_type</th>\n",
              "      <th>dish_liked</th>\n",
              "      <th>cuisines</th>\n",
              "      <th>approx_cost(for two people)</th>\n",
              "      <th>reviews_list</th>\n",
              "      <th>menu_item</th>\n",
              "      <th>listed_in(type)</th>\n",
              "      <th>listed_in(city)</th>\n",
              "    </tr>\n",
              "  </thead>\n",
              "  <tbody>\n",
              "    <tr>\n",
              "      <th>0</th>\n",
              "      <td>https://www.zomato.com/bangalore/jalsa-banasha...</td>\n",
              "      <td>942, 21st Main Road, 2nd Stage, Banashankari, ...</td>\n",
              "      <td>Jalsa</td>\n",
              "      <td>Yes</td>\n",
              "      <td>Yes</td>\n",
              "      <td>4.1/5</td>\n",
              "      <td>775</td>\n",
              "      <td>080 42297555\\r\\n+91 9743772233</td>\n",
              "      <td>Banashankari</td>\n",
              "      <td>Casual Dining</td>\n",
              "      <td>Pasta, Lunch Buffet, Masala Papad, Paneer Laja...</td>\n",
              "      <td>North Indian, Mughlai, Chinese</td>\n",
              "      <td>800</td>\n",
              "      <td>[('Rated 4.0', 'RATED\\n  A beautiful place to ...</td>\n",
              "      <td>[]</td>\n",
              "      <td>Buffet</td>\n",
              "      <td>Banashankari</td>\n",
              "    </tr>\n",
              "    <tr>\n",
              "      <th>1</th>\n",
              "      <td>https://www.zomato.com/bangalore/spice-elephan...</td>\n",
              "      <td>2nd Floor, 80 Feet Road, Near Big Bazaar, 6th ...</td>\n",
              "      <td>Spice Elephant</td>\n",
              "      <td>Yes</td>\n",
              "      <td>No</td>\n",
              "      <td>4.1/5</td>\n",
              "      <td>787</td>\n",
              "      <td>080 41714161</td>\n",
              "      <td>Banashankari</td>\n",
              "      <td>Casual Dining</td>\n",
              "      <td>Momos, Lunch Buffet, Chocolate Nirvana, Thai G...</td>\n",
              "      <td>Chinese, North Indian, Thai</td>\n",
              "      <td>800</td>\n",
              "      <td>[('Rated 4.0', 'RATED\\n  Had been here for din...</td>\n",
              "      <td>[]</td>\n",
              "      <td>Buffet</td>\n",
              "      <td>Banashankari</td>\n",
              "    </tr>\n",
              "    <tr>\n",
              "      <th>2</th>\n",
              "      <td>https://www.zomato.com/SanchurroBangalore?cont...</td>\n",
              "      <td>1112, Next to KIMS Medical College, 17th Cross...</td>\n",
              "      <td>San Churro Cafe</td>\n",
              "      <td>Yes</td>\n",
              "      <td>No</td>\n",
              "      <td>3.8/5</td>\n",
              "      <td>918</td>\n",
              "      <td>+91 9663487993</td>\n",
              "      <td>Banashankari</td>\n",
              "      <td>Cafe, Casual Dining</td>\n",
              "      <td>Churros, Cannelloni, Minestrone Soup, Hot Choc...</td>\n",
              "      <td>Cafe, Mexican, Italian</td>\n",
              "      <td>800</td>\n",
              "      <td>[('Rated 3.0', \"RATED\\n  Ambience is not that ...</td>\n",
              "      <td>[]</td>\n",
              "      <td>Buffet</td>\n",
              "      <td>Banashankari</td>\n",
              "    </tr>\n",
              "    <tr>\n",
              "      <th>3</th>\n",
              "      <td>https://www.zomato.com/bangalore/addhuri-udupi...</td>\n",
              "      <td>1st Floor, Annakuteera, 3rd Stage, Banashankar...</td>\n",
              "      <td>Addhuri Udupi Bhojana</td>\n",
              "      <td>No</td>\n",
              "      <td>No</td>\n",
              "      <td>3.7/5</td>\n",
              "      <td>88</td>\n",
              "      <td>+91 9620009302</td>\n",
              "      <td>Banashankari</td>\n",
              "      <td>Quick Bites</td>\n",
              "      <td>Masala Dosa</td>\n",
              "      <td>South Indian, North Indian</td>\n",
              "      <td>300</td>\n",
              "      <td>[('Rated 4.0', \"RATED\\n  Great food and proper...</td>\n",
              "      <td>[]</td>\n",
              "      <td>Buffet</td>\n",
              "      <td>Banashankari</td>\n",
              "    </tr>\n",
              "    <tr>\n",
              "      <th>4</th>\n",
              "      <td>https://www.zomato.com/bangalore/grand-village...</td>\n",
              "      <td>10, 3rd Floor, Lakshmi Associates, Gandhi Baza...</td>\n",
              "      <td>Grand Village</td>\n",
              "      <td>No</td>\n",
              "      <td>No</td>\n",
              "      <td>3.8/5</td>\n",
              "      <td>166</td>\n",
              "      <td>+91 8026612447\\r\\n+91 9901210005</td>\n",
              "      <td>Basavanagudi</td>\n",
              "      <td>Casual Dining</td>\n",
              "      <td>Panipuri, Gol Gappe</td>\n",
              "      <td>North Indian, Rajasthani</td>\n",
              "      <td>600</td>\n",
              "      <td>[('Rated 4.0', 'RATED\\n  Very good restaurant ...</td>\n",
              "      <td>[]</td>\n",
              "      <td>Buffet</td>\n",
              "      <td>Banashankari</td>\n",
              "    </tr>\n",
              "  </tbody>\n",
              "</table>\n",
              "</div>"
            ]
          },
          "metadata": {
            "tags": []
          },
          "execution_count": 3
        }
      ]
    },
    {
      "cell_type": "code",
      "metadata": {
        "trusted": true,
        "id": "aZU4d4nu2rv7",
        "colab_type": "code",
        "colab": {}
      },
      "source": [
        "#Deleting Unnnecessary Columns\n",
        "zomato=zomato_orgnl.drop(['url','dish_liked','phone'],axis=1) "
      ],
      "execution_count": null,
      "outputs": []
    },
    {
      "cell_type": "code",
      "metadata": {
        "trusted": true,
        "id": "4V-OTyCW2rv9",
        "colab_type": "code",
        "colab": {}
      },
      "source": [
        "#Removing the Duplicates\n",
        "zomato.duplicated().sum()\n",
        "zomato.drop_duplicates(inplace=True)"
      ],
      "execution_count": null,
      "outputs": []
    },
    {
      "cell_type": "code",
      "metadata": {
        "trusted": true,
        "id": "DU3KFug32rv_",
        "colab_type": "code",
        "colab": {},
        "outputId": "bad3ef10-9903-4a04-eaef-7539171db909"
      },
      "source": [
        "#Remove the NaN values from the dataset\n",
        "zomato.isnull().sum()\n",
        "zomato.dropna(how='any',inplace=True)\n",
        "zomato.info()"
      ],
      "execution_count": null,
      "outputs": [
        {
          "output_type": "stream",
          "text": [
            "<class 'pandas.core.frame.DataFrame'>\n",
            "Int64Index: 43499 entries, 0 to 51716\n",
            "Data columns (total 14 columns):\n",
            "address                        43499 non-null object\n",
            "name                           43499 non-null object\n",
            "online_order                   43499 non-null object\n",
            "book_table                     43499 non-null object\n",
            "rate                           43499 non-null object\n",
            "votes                          43499 non-null int64\n",
            "location                       43499 non-null object\n",
            "rest_type                      43499 non-null object\n",
            "cuisines                       43499 non-null object\n",
            "approx_cost(for two people)    43499 non-null object\n",
            "reviews_list                   43499 non-null object\n",
            "menu_item                      43499 non-null object\n",
            "listed_in(type)                43499 non-null object\n",
            "listed_in(city)                43499 non-null object\n",
            "dtypes: int64(1), object(13)\n",
            "memory usage: 5.0+ MB\n"
          ],
          "name": "stdout"
        }
      ]
    },
    {
      "cell_type": "code",
      "metadata": {
        "trusted": true,
        "id": "aqvK40WW2rwB",
        "colab_type": "code",
        "colab": {},
        "outputId": "983e2e8a-0951-45a1-c11b-5b93d17ee58f"
      },
      "source": [
        "#Changing the Columns Names\n",
        "zomato.columns\n",
        "zomato = zomato.rename(columns={'approx_cost(for two people)':'cost','listed_in(type)':'type',\n",
        "                                  'listed_in(city)':'city'})\n",
        "zomato.columns"
      ],
      "execution_count": null,
      "outputs": [
        {
          "output_type": "execute_result",
          "data": {
            "text/plain": [
              "Index(['address', 'name', 'online_order', 'book_table', 'rate', 'votes',\n",
              "       'location', 'rest_type', 'cuisines', 'cost', 'reviews_list',\n",
              "       'menu_item', 'type', 'city'],\n",
              "      dtype='object')"
            ]
          },
          "metadata": {
            "tags": []
          },
          "execution_count": 7
        }
      ]
    },
    {
      "cell_type": "code",
      "metadata": {
        "trusted": true,
        "id": "MjHGwHMm2rwE",
        "colab_type": "code",
        "colab": {},
        "outputId": "1f116b70-1a15-4903-ce54-eea9b1d931c1"
      },
      "source": [
        "#Some Transformations\n",
        "zomato['cost'] = zomato['cost'].astype(str)\n",
        "zomato['cost'] = zomato['cost'].apply(lambda x: x.replace(',','.'))\n",
        "zomato['cost'] = zomato['cost'].astype(float)\n",
        "zomato.info()"
      ],
      "execution_count": null,
      "outputs": [
        {
          "output_type": "stream",
          "text": [
            "<class 'pandas.core.frame.DataFrame'>\n",
            "Int64Index: 43499 entries, 0 to 51716\n",
            "Data columns (total 14 columns):\n",
            "address         43499 non-null object\n",
            "name            43499 non-null object\n",
            "online_order    43499 non-null object\n",
            "book_table      43499 non-null object\n",
            "rate            43499 non-null object\n",
            "votes           43499 non-null int64\n",
            "location        43499 non-null object\n",
            "rest_type       43499 non-null object\n",
            "cuisines        43499 non-null object\n",
            "cost            43499 non-null float64\n",
            "reviews_list    43499 non-null object\n",
            "menu_item       43499 non-null object\n",
            "type            43499 non-null object\n",
            "city            43499 non-null object\n",
            "dtypes: float64(1), int64(1), object(12)\n",
            "memory usage: 5.0+ MB\n"
          ],
          "name": "stdout"
        }
      ]
    },
    {
      "cell_type": "code",
      "metadata": {
        "trusted": true,
        "id": "70djM7fk2rwH",
        "colab_type": "code",
        "colab": {},
        "outputId": "689505a1-33b6-4b0a-c95f-02079b6555b9"
      },
      "source": [
        "#Removing '/5' from Rates\n",
        "zomato['rate'].unique()\n",
        "zomato = zomato.loc[zomato.rate !='NEW']\n",
        "zomato = zomato.loc[zomato.rate !='-'].reset_index(drop=True)\n",
        "remove_slash = lambda x: x.replace('/5', '') if type(x) == np.str else x\n",
        "zomato.rate = zomato.rate.apply(remove_slash).str.strip().astype('float')\n",
        "zomato['rate'].head()"
      ],
      "execution_count": null,
      "outputs": [
        {
          "output_type": "execute_result",
          "data": {
            "text/plain": [
              "0    4.1\n",
              "1    4.1\n",
              "2    3.8\n",
              "3    3.7\n",
              "4    3.8\n",
              "Name: rate, dtype: float64"
            ]
          },
          "metadata": {
            "tags": []
          },
          "execution_count": 9
        }
      ]
    },
    {
      "cell_type": "code",
      "metadata": {
        "trusted": true,
        "id": "bFlslpBT2rwJ",
        "colab_type": "code",
        "colab": {}
      },
      "source": [
        "df = zomato.copy()"
      ],
      "execution_count": null,
      "outputs": []
    },
    {
      "cell_type": "markdown",
      "metadata": {
        "id": "ovtyBcES2rwL",
        "colab_type": "text"
      },
      "source": [
        "## Retrieve the text data"
      ]
    },
    {
      "cell_type": "code",
      "metadata": {
        "trusted": true,
        "id": "GR3tV_Xl2rwL",
        "colab_type": "code",
        "colab": {},
        "outputId": "e340b93b-b770-4bd6-9861-7c0bedc955d8"
      },
      "source": [
        "all_ratings = []\n",
        "\n",
        "for ratings in tqdm(df['reviews_list']):\n",
        "    ratings = eval(ratings)\n",
        "    \n",
        "    for score, doc in ratings:\n",
        "        if score:\n",
        "            score = score.strip(\"Rated\").strip()\n",
        "            doc = doc.strip('RATED').strip()\n",
        "            \n",
        "            score = float(score)\n",
        "            all_ratings.append([score, doc])"
      ],
      "execution_count": null,
      "outputs": [
        {
          "output_type": "stream",
          "text": [
            "100%|██████████| 41237/41237 [00:20<00:00, 2027.90it/s]\n"
          ],
          "name": "stderr"
        }
      ]
    },
    {
      "cell_type": "code",
      "metadata": {
        "trusted": true,
        "id": "I-z9RRQs2rwN",
        "colab_type": "code",
        "colab": {},
        "outputId": "c49a9943-ab73-41e5-d26d-6652f1cdadcb"
      },
      "source": [
        "ratings_df = pd.DataFrame(all_ratings, columns=['score', 'doc'])\n",
        "\n",
        "print(ratings_df.shape)\n",
        "ratings_df.head()"
      ],
      "execution_count": null,
      "outputs": [
        {
          "output_type": "stream",
          "text": [
            "(1295849, 2)\n"
          ],
          "name": "stdout"
        },
        {
          "output_type": "execute_result",
          "data": {
            "text/plain": [
              "   score                                                doc\n",
              "0    4.0  A beautiful place to dine in.The interiors tak...\n",
              "1    4.0  I was here for dinner with my family on a week...\n",
              "2    2.0  Its a restaurant near to Banashankari BDA. Me ...\n",
              "3    4.0  We went here on a weekend and one of us had th...\n",
              "4    5.0  The best thing about the place is itÃÃÃÃ..."
            ],
            "text/html": [
              "<div>\n",
              "<style scoped>\n",
              "    .dataframe tbody tr th:only-of-type {\n",
              "        vertical-align: middle;\n",
              "    }\n",
              "\n",
              "    .dataframe tbody tr th {\n",
              "        vertical-align: top;\n",
              "    }\n",
              "\n",
              "    .dataframe thead th {\n",
              "        text-align: right;\n",
              "    }\n",
              "</style>\n",
              "<table border=\"1\" class=\"dataframe\">\n",
              "  <thead>\n",
              "    <tr style=\"text-align: right;\">\n",
              "      <th></th>\n",
              "      <th>score</th>\n",
              "      <th>doc</th>\n",
              "    </tr>\n",
              "  </thead>\n",
              "  <tbody>\n",
              "    <tr>\n",
              "      <th>0</th>\n",
              "      <td>4.0</td>\n",
              "      <td>A beautiful place to dine in.The interiors tak...</td>\n",
              "    </tr>\n",
              "    <tr>\n",
              "      <th>1</th>\n",
              "      <td>4.0</td>\n",
              "      <td>I was here for dinner with my family on a week...</td>\n",
              "    </tr>\n",
              "    <tr>\n",
              "      <th>2</th>\n",
              "      <td>2.0</td>\n",
              "      <td>Its a restaurant near to Banashankari BDA. Me ...</td>\n",
              "    </tr>\n",
              "    <tr>\n",
              "      <th>3</th>\n",
              "      <td>4.0</td>\n",
              "      <td>We went here on a weekend and one of us had th...</td>\n",
              "    </tr>\n",
              "    <tr>\n",
              "      <th>4</th>\n",
              "      <td>5.0</td>\n",
              "      <td>The best thing about the place is itÃÃÃÃ...</td>\n",
              "    </tr>\n",
              "  </tbody>\n",
              "</table>\n",
              "</div>"
            ]
          },
          "metadata": {
            "tags": []
          },
          "execution_count": 12
        }
      ]
    },
    {
      "cell_type": "markdown",
      "metadata": {
        "id": "9wYh_ZlN2rwP",
        "colab_type": "text"
      },
      "source": [
        "## Remove ratings inside text\n",
        "\n",
        "Some of the reviews have ratings within it. We want to train a generic model to predict ratings with only text, so we want to hide this extra information so the model does not overfit on that.\n",
        "\n",
        "\"Unhide\" the output of the next cell to view sample of the ratings that contain the character `\"/\"`."
      ]
    },
    {
      "cell_type": "code",
      "metadata": {
        "trusted": true,
        "_kg_hide-output": true,
        "id": "PHZ0a_HN2rwQ",
        "colab_type": "code",
        "colab": {},
        "outputId": "29900f47-c8e4-414b-d0e2-f09d7ce9bb5b"
      },
      "source": [
        "docs_with_ratings = []\n",
        "for doc in ratings_df['doc'][:150]:\n",
        "    if '/' in doc:\n",
        "        print(doc)\n",
        "        docs_with_ratings.append(doc)"
      ],
      "execution_count": null,
      "outputs": [
        {
          "output_type": "stream",
          "text": [
            "Great food and pleasant ambience. Expensive but Coll place to chill and relax......\n",
            "\n",
            "Service is really very very good and friendly staff...\n",
            "\n",
            "Food : 5/5\n",
            "Service : 5/5\n",
            "Ambience :5/5\n",
            "Overall :5/5\n",
            "I was looking for a quite place to spend some time with family and as well wanted to try some new place. Since I was at Banashankari I thought of trying this place. The place had good rating and was part of Zomato gold. So I decided to try this place. It was a delite to see a very friendly staff and food we ordered was very tasty as well.\n",
            "\n",
            "Food : 4/5\n",
            "Ambience :3/5\n",
            "Friendly staff : 4/5\n",
            "Pocket friendly : 4/5\n",
            "\n",
            "Will definitely visit again ??\n",
            "Food: 8/10\n",
            "Ambience:8/10\n",
            "Staff:8/10\n",
            "One of the good places to try north Indian food...but depends on ur taste buds. Not everyone will like all the items here. Specially when u r particular abt sweet and spicy food.\n",
            "There's buffet available too.\n",
            "We had ordered paneer uttar dakshin and paneer kurchan..was amazing. The Gobi hara pyaz and mix veg were average.\n",
            "One of my favourite places that I often visit in South bangalore , but quality has been reduced than before. Little unhappy with the food this time.\n",
            "But their churros never dissapointed me. Staff are too slow and do not respond easily.\n",
            "\n",
            "Soups:\n",
            "Minestrone soup was like vegetable stock water with vegetables in it, not happy with it.\n",
            "\n",
            "Churros :\n",
            "It was great as usual. A must visit place if u love churros.\n",
            "\n",
            "Starters:\n",
            "1. Africano panner -\n",
            "It was bit sweet and not happy with the dish!!\n",
            "2. Loaded nachos -\n",
            "This happened to be their one of the best dishes, but now I take back my words. Very dissapointed with the dish.\n",
            "\n",
            "Main course:\n",
            "sicilia pizza\n",
            "Pizza was too good, it's a must try dish.\n",
            "\n",
            "Finally I would recommend this place for churros and pizza .\n",
            "\n",
            "Taste : 6/10\n",
            "Ambience :7/10\n",
            "Value for money : 8/10\n",
            "\n",
            "Overall experience : 7.5/10\n",
            "Been here a couple of times. Highly satisfying on both the ocassions. Great food. Decent service. At price of 160 per person it is of a great value. The staff here serves in a traditional Mysore style dresses. The food is authentic Karnataka meals. I really liked the pineapple pickle/chutney. They serve some 4 varities of rice of which you shouldn't try all as you would already be full. Roti, Dosa were decent. In the deserts, Payasam& Holige were good.\n",
            "I think it is one the must try places to try some authentic south food even if you have been to the likes of Kamath etc. this one is a little different. :)\n",
            "I went to this restaurant on Sunday afternoon.It was a bit crowded.\n",
            "\n",
            "Its located in the 1st floor Above anna kuteera kathriguppe\n",
            "\n",
            "You need to take food coupon in the ground floor itself.\n",
            "it was 160 rs.\n",
            "\n",
            "Taste wise it was good.\n",
            "Service was slow.\n",
            "Nothing exciting/different in the menu.\n",
            "Whatever they serve its good.\n",
            "Worth for money.\n",
            "Excellent Ambience with delicious meals with 10-15 variety types. Worth paying for money and you can dine out if you are with more friends/relatives in home.\n",
            "Very good restaurant in neighbourhood. Buffet system is properly arranged. Variety of dishes along with garba dance and puppet show. Good spread of desserts. Live paratha / Kulcha making\n",
            "Great service, overwhelming experience.\n",
            "\n",
            "One of its kind experience. Grand village offers you some very desi food options.\n",
            "\n",
            "Jaljeera, buttermilk, chat papdi, bhajiya, dosa, pav bhaji, noodles, and so many curries kulcha, roti, and garama garam Jalebies, gulab jamuns.\n",
            "\n",
            "Beautiful ambience of village. People serving with smiles and with full heart !!\n",
            "\n",
            "So here goes my overall ratings :\n",
            "Food : 4/5\n",
            "Ambience : 3.5/5\n",
            "Service : 4/5\n",
            "Pocket friendly : 4/5\n",
            "Food 3/5\n",
            "Ambience 3/5\n",
            "Service 3/5\n",
            "\n",
            "Had been here for family lunch. This place serves buffets too. We ordered soups, babycorn starters, butter naan, kadai panner, veg kohlapuri, pease pulav. Food was good. But the service is too slow. They will make you wait for 20 mins to get the order. This place is apt for family hangout.\n",
            "\n",
            "Cheers.\n",
            "Bakasuras Paradise!\n",
            "\n",
            "The only place that can keep the bakasuras belly happy!\n",
            "My 6th visit, and my 5th different onesta visit!\n",
            "From RR nagar, JP Nagar, Basavanagudi, Koramangala bakasura ended up at an onesta in Banashankari as well!\n",
            "Every visit , it's the unlimited meal that I have had. But, but, but there is a change that's happening. From unlimited pizza, unlimited dessert and a beverage (mocktails and everything) to unlimited pizza, one dessert and one aerated beverage (coke/Pepsi/fanta) , I have been through all! And yet, it never disappoints!\n",
            "The pizzas here are just fab and you can hardly eat like 4-5 pizzas in one sitting (bakasura can.. can you? Yes you can)\n",
            "Coming to the staff, they are great.\n",
            "Coming to the quality, it's great.\n",
            "\n",
            "To finish!\n",
            "Be like onesta!\n",
            "\n",
            "It's Bakasura Recommended\n",
            "Food- 10/10\n",
            "Ambience- 10/10\n",
            "Staff- 10/10\n",
            "Value for money- 25/10\n",
            "\n",
            "Onesta Love!\n",
            "Food : 4/5\n",
            "Service: 10/5\n",
            "So let's get over the food and the ambience first. Restaurant is big, with high roof, give a sense of space, well lit. Food is great, not mind blowing. We took the unlimited menu, and loved the bacon pizza most. Rest of the pizza was good enough. Among the deserts, the walnut tart was superb, but i didn't like the peanut-butter mousse at all.\n",
            "\n",
            "But, in spite of all that, the reason for the 5-star rating is the service we got. We were served by Mr.Nanda, who made us feel absolutely special. He didn't have to. We were a small party of just two people, we weren't ordering off the main menu, and the restaurant discourages tips. In spite of all that, he was extremely attentive (without being intrusive), engaging and helpful. I have been to quite some places, from roadside ones to five-star hotels, rarely have the service been so heart warmingly good. I hope he goes onto much much greater things in life, because he is absolutely brilliant at his work.\n",
            "Ambiance - 4/5\n",
            "Service - 4/5\n",
            "Food - 4/5\n",
            "\n",
            "Great pizza, served hot and made to order. They take note of what crusts you want for your pizza and I had the thin crust, so I could eat more, and the crust was made amazing also so was the pizza.\n",
            "The service is really good and the place is clean also. All in all wonderful place and another great restaurant part of the franchise.\n",
            "Food : 4/5\n",
            "Service: 10/5\n",
            "So let's get over the food and the ambience first. Restaurant is big, with high roof, give a sense of space, well lit. Food is great, not mind blowing. We took the unlimited menu, and loved the bacon pizza most. Rest of the pizza was good enough. Among the deserts, the walnut tart was superb, but i didn't like the peanut-butter mousse at all.\n",
            "\n",
            "But, in spite of all that, the reason for the 5-star rating is the service we got. We were served by Mr.Nanda, who made us feel absolutely special. He didn't have to. We were a small party of just two people, we weren't ordering off the main menu, and the restaurant discourages tips. In spite of all that, he was extremely attentive (without being intrusive), engaging and helpful. I have been to quite some places, from roadside ones to five-star hotels, rarely have the service been so heart warmingly good. I hope he goes onto much much greater things in life, because he is absolutely brilliant at his work.\n",
            "Ambiance - 4/5\n",
            "Service - 4/5\n",
            "Food - 4/5\n",
            "\n",
            "Great pizza, served hot and made to order. They take note of what crusts you want for your pizza and I had the thin crust, so I could eat more, and the crust was made amazing also so was the pizza.\n",
            "The service is really good and the place is clean also. All in all wonderful place and another great restaurant part of the franchise.\n",
            "Food : 4/5\n",
            "Service: 10/5\n",
            "So let's get over the food and the ambience first. Restaurant is big, with high roof, give a sense of space, well lit. Food is great, not mind blowing. We took the unlimited menu, and loved the bacon pizza most. Rest of the pizza was good enough. Among the deserts, the walnut tart was superb, but i didn't like the peanut-butter mousse at all.\n",
            "\n",
            "But, in spite of all that, the reason for the 5-star rating is the service we got. We were served by Mr.Nanda, who made us feel absolutely special. He didn't have to. We were a small party of just two people, we weren't ordering off the main menu, and the restaurant discourages tips. In spite of all that, he was extremely attentive (without being intrusive), engaging and helpful. I have been to quite some places, from roadside ones to five-star hotels, rarely have the service been so heart warmingly good. I hope he goes onto much much greater things in life, because he is absolutely brilliant at his work.\n",
            "Ambiance - 4/5\n",
            "Service - 4/5\n",
            "Food - 4/5\n",
            "\n",
            "Great pizza, served hot and made to order. They take note of what crusts you want for your pizza and I had the thin crust, so I could eat more, and the crust was made amazing also so was the pizza.\n",
            "The service is really good and the place is clean also. All in all wonderful place and another great restaurant part of the franchise.\n",
            "Food : 4/5\n",
            "Service: 10/5\n",
            "So let's get over the food and the ambience first. Restaurant is big, with high roof, give a sense of space, well lit. Food is great, not mind blowing. We took the unlimited menu, and loved the bacon pizza most. Rest of the pizza was good enough. Among the deserts, the walnut tart was superb, but i didn't like the peanut-butter mousse at all.\n",
            "\n",
            "But, in spite of all that, the reason for the 5-star rating is the service we got. We were served by Mr.Nanda, who made us feel absolutely special. He didn't have to. We were a small party of just two people, we weren't ordering off the main menu, and the restaurant discourages tips. In spite of all that, he was extremely attentive (without being intrusive), engaging and helpful. I have been to quite some places, from roadside ones to five-star hotels, rarely have the service been so heart warmingly good. I hope he goes onto much much greater things in life, because he is absolutely brilliant at his work.\n",
            "Ambiance - 4/5\n",
            "Service - 4/5\n",
            "Food - 4/5\n",
            "\n",
            "Great pizza, served hot and made to order. They take note of what crusts you want for your pizza and I had the thin crust, so I could eat more, and the crust was made amazing also so was the pizza.\n",
            "The service is really good and the place is clean also. All in all wonderful place and another great restaurant part of the franchise.\n",
            "Food : 4/5\n",
            "Service: 10/5\n",
            "So let's get over the food and the ambience first. Restaurant is big, with high roof, give a sense of space, well lit. Food is great, not mind blowing. We took the unlimited menu, and loved the bacon pizza most. Rest of the pizza was good enough. Among the deserts, the walnut tart was superb, but i didn't like the peanut-butter mousse at all.\n",
            "\n",
            "But, in spite of all that, the reason for the 5-star rating is the service we got. We were served by Mr.Nanda, who made us feel absolutely special. He didn't have to. We were a small party of just two people, we weren't ordering off the main menu, and the restaurant discourages tips. In spite of all that, he was extremely attentive (without being intrusive), engaging and helpful. I have been to quite some places, from roadside ones to five-star hotels, rarely have the service been so heart warmingly good. I hope he goes onto much much greater things in life, because he is absolutely brilliant at his work.\n",
            "Ambiance - 4/5\n",
            "Service - 4/5\n",
            "Food - 4/5\n",
            "\n",
            "Great pizza, served hot and made to order. They take note of what crusts you want for your pizza and I had the thin crust, so I could eat more, and the crust was made amazing also so was the pizza.\n",
            "The service is really good and the place is clean also. All in all wonderful place and another great restaurant part of the franchise.\n",
            "Food : 4/5\n",
            "Service: 10/5\n",
            "So let's get over the food and the ambience first. Restaurant is big, with high roof, give a sense of space, well lit. Food is great, not mind blowing. We took the unlimited menu, and loved the bacon pizza most. Rest of the pizza was good enough. Among the deserts, the walnut tart was superb, but i didn't like the peanut-butter mousse at all.\n",
            "\n",
            "But, in spite of all that, the reason for the 5-star rating is the service we got. We were served by Mr.Nanda, who made us feel absolutely special. He didn't have to. We were a small party of just two people, we weren't ordering off the main menu, and the restaurant discourages tips. In spite of all that, he was extremely attentive (without being intrusive), engaging and helpful. I have been to quite some places, from roadside ones to five-star hotels, rarely have the service been so heart warmingly good. I hope he goes onto much much greater things in life, because he is absolutely brilliant at his work.\n",
            "Ambiance - 4/5\n",
            "Service - 4/5\n",
            "Food - 4/5\n",
            "\n",
            "Great pizza, served hot and made to order. They take note of what crusts you want for your pizza and I had the thin crust, so I could eat more, and the crust was made amazing also so was the pizza.\n",
            "The service is really good and the place is clean also. All in all wonderful place and another great restaurant part of the franchise.\n",
            "Food quality 4.5/5\n",
            "Hospitality 4/5\n",
            "Management response 4.5/5\n",
            "Cleanliness 4.5/5\n",
            "\n",
            "Ordered\n",
            "1) Assorted Bruschetta - It included Tomato Delight, Herbed Mushroom and Broccoli and cheese Bruschetta.\n",
            "\n",
            "2) Mexican Veg Delight pizza - It was topped with some Bell peppers, onion and some Cherry Tomato.\n",
            "\n",
            "3) Farmhouse Special- Topped with Baby corn, Bell pepper and mushroom\n",
            "\n",
            "4)Virgin Mojitos - Mint, Lime and sprit were main ingredients.\n",
            "5) Kiwi & Basil Fizz - Kiwi syrup, Basil leaves and sprit.\n",
            "\n",
            "6)Caramel Walnut Tart\n",
            "7) Chilli chocolate tart\n",
            "8) Baked Cherry Cheesecake\n",
            "9)Penne Al Pesto\n",
            "I had been to this place with one of my friends, it's a very small place but decent. And nice place to hangout.\n",
            "Food-3.5/5\n",
            "Ambience-4/5\n",
            "Value for money 3.5/5\n",
            "Went out to try their burgers and they were pretty good. The ambience was that of a rustic pub and the people are nice. The service is pretty slow.\n",
            "Food - 3.5/5\n",
            "Ambience - 4/5\n",
            "Service - 3.5/5\n"
          ],
          "name": "stdout"
        }
      ]
    },
    {
      "cell_type": "code",
      "metadata": {
        "trusted": true,
        "id": "YDNLw4vf2rwS",
        "colab_type": "code",
        "colab": {},
        "outputId": "e012150d-c55a-4242-ff6f-42ba6c69f509"
      },
      "source": [
        "print(len(docs_with_ratings))"
      ],
      "execution_count": null,
      "outputs": [
        {
          "output_type": "stream",
          "text": [
            "26\n"
          ],
          "name": "stdout"
        }
      ]
    },
    {
      "cell_type": "markdown",
      "metadata": {
        "id": "hlPYms7s2rwU",
        "colab_type": "text"
      },
      "source": [
        "We will use Regex to find and replace all the occurences of ratings. \n",
        "\n",
        "Let's take a look at all the parts of documents that matches the pattern `[0-9.]*[0-9]/[0-9]*[0-9]`, which correspond to any rating that has double digits (e.g. 10/10), single digits (5/5) or single digits with a fraction (e.g. 9.5/10 or 3.5/5)."
      ]
    },
    {
      "cell_type": "code",
      "metadata": {
        "trusted": true,
        "id": "9jj2CXil2rwU",
        "colab_type": "code",
        "colab": {},
        "outputId": "2f99d09d-3ea6-420f-b629-8a2f41a63ff2"
      },
      "source": [
        "for docs in docs_with_ratings:\n",
        "    x = re.findall('[0-9.]*[0-9]/[0-9]*[0-9]', docs)\n",
        "    print(x)"
      ],
      "execution_count": null,
      "outputs": [
        {
          "output_type": "stream",
          "text": [
            "['5/5', '5/5', '5/5', '5/5']\n",
            "['4/5', '3/5', '4/5', '4/5']\n",
            "['8/10', '8/10', '8/10']\n",
            "['6/10', '7/10', '8/10', '7.5/10']\n",
            "[]\n",
            "[]\n",
            "[]\n",
            "[]\n",
            "['4/5', '3.5/5', '4/5', '4/5']\n",
            "['3/5', '3/5', '3/5']\n",
            "['10/10', '10/10', '10/10', '25/10']\n",
            "['4/5', '10/5']\n",
            "['4/5', '4/5', '4/5']\n",
            "['4/5', '10/5']\n",
            "['4/5', '4/5', '4/5']\n",
            "['4/5', '10/5']\n",
            "['4/5', '4/5', '4/5']\n",
            "['4/5', '10/5']\n",
            "['4/5', '4/5', '4/5']\n",
            "['4/5', '10/5']\n",
            "['4/5', '4/5', '4/5']\n",
            "['4/5', '10/5']\n",
            "['4/5', '4/5', '4/5']\n",
            "['4.5/5', '4/5', '4.5/5', '4.5/5']\n",
            "['3.5/5', '4/5', '3.5/5']\n",
            "['3.5/5', '4/5', '3.5/5']\n"
          ],
          "name": "stdout"
        }
      ]
    },
    {
      "cell_type": "markdown",
      "metadata": {
        "id": "RkPN1Gsg2rwX",
        "colab_type": "text"
      },
      "source": [
        "We will replace them with the word \"score\", since we do not want the model to overfit on ratings that are already given in the comments."
      ]
    },
    {
      "cell_type": "code",
      "metadata": {
        "trusted": true,
        "id": "TaW7dwkV2rwX",
        "colab_type": "code",
        "colab": {},
        "outputId": "641a80b8-3f43-4759-857d-1e1189da0a39"
      },
      "source": [
        "doc = docs_with_ratings[0]\n",
        "subbed_doc = re.sub('[0-9.]*[0-9]/[0-9]*[0-9]', 'score', doc)\n",
        "print(\"ORIGINAL:\")\n",
        "print(doc)\n",
        "print(\"\\nSUBBED:\")\n",
        "print(subbed_doc)"
      ],
      "execution_count": null,
      "outputs": [
        {
          "output_type": "stream",
          "text": [
            "ORIGINAL:\n",
            "Great food and pleasant ambience. Expensive but Coll place to chill and relax......\n",
            "\n",
            "Service is really very very good and friendly staff...\n",
            "\n",
            "Food : 5/5\n",
            "Service : 5/5\n",
            "Ambience :5/5\n",
            "Overall :5/5\n",
            "\n",
            "SUBBED:\n",
            "Great food and pleasant ambience. Expensive but Coll place to chill and relax......\n",
            "\n",
            "Service is really very very good and friendly staff...\n",
            "\n",
            "Food : score\n",
            "Service : score\n",
            "Ambience :score\n",
            "Overall :score\n"
          ],
          "name": "stdout"
        }
      ]
    },
    {
      "cell_type": "markdown",
      "metadata": {
        "id": "qF-LbZ3a2rwZ",
        "colab_type": "text"
      },
      "source": [
        "Now, we do it for all texts."
      ]
    },
    {
      "cell_type": "code",
      "metadata": {
        "trusted": true,
        "id": "0IM1YkvP2rwZ",
        "colab_type": "code",
        "colab": {},
        "outputId": "490501c1-cc5e-4a55-df91-3483c79b2145"
      },
      "source": [
        "ratings_df.head()"
      ],
      "execution_count": null,
      "outputs": [
        {
          "output_type": "execute_result",
          "data": {
            "text/plain": [
              "   score                                                doc\n",
              "0    4.0  A beautiful place to dine in.The interiors tak...\n",
              "1    4.0  I was here for dinner with my family on a week...\n",
              "2    2.0  Its a restaurant near to Banashankari BDA. Me ...\n",
              "3    4.0  We went here on a weekend and one of us had th...\n",
              "4    5.0  The best thing about the place is itÃÃÃÃ..."
            ],
            "text/html": [
              "<div>\n",
              "<style scoped>\n",
              "    .dataframe tbody tr th:only-of-type {\n",
              "        vertical-align: middle;\n",
              "    }\n",
              "\n",
              "    .dataframe tbody tr th {\n",
              "        vertical-align: top;\n",
              "    }\n",
              "\n",
              "    .dataframe thead th {\n",
              "        text-align: right;\n",
              "    }\n",
              "</style>\n",
              "<table border=\"1\" class=\"dataframe\">\n",
              "  <thead>\n",
              "    <tr style=\"text-align: right;\">\n",
              "      <th></th>\n",
              "      <th>score</th>\n",
              "      <th>doc</th>\n",
              "    </tr>\n",
              "  </thead>\n",
              "  <tbody>\n",
              "    <tr>\n",
              "      <th>0</th>\n",
              "      <td>4.0</td>\n",
              "      <td>A beautiful place to dine in.The interiors tak...</td>\n",
              "    </tr>\n",
              "    <tr>\n",
              "      <th>1</th>\n",
              "      <td>4.0</td>\n",
              "      <td>I was here for dinner with my family on a week...</td>\n",
              "    </tr>\n",
              "    <tr>\n",
              "      <th>2</th>\n",
              "      <td>2.0</td>\n",
              "      <td>Its a restaurant near to Banashankari BDA. Me ...</td>\n",
              "    </tr>\n",
              "    <tr>\n",
              "      <th>3</th>\n",
              "      <td>4.0</td>\n",
              "      <td>We went here on a weekend and one of us had th...</td>\n",
              "    </tr>\n",
              "    <tr>\n",
              "      <th>4</th>\n",
              "      <td>5.0</td>\n",
              "      <td>The best thing about the place is itÃÃÃÃ...</td>\n",
              "    </tr>\n",
              "  </tbody>\n",
              "</table>\n",
              "</div>"
            ]
          },
          "metadata": {
            "tags": []
          },
          "execution_count": 17
        }
      ]
    },
    {
      "cell_type": "markdown",
      "metadata": {
        "id": "E9QUyMqy2rwb",
        "colab_type": "text"
      },
      "source": [
        "## Text Preprocessing"
      ]
    },
    {
      "cell_type": "code",
      "metadata": {
        "trusted": true,
        "id": "UtkZyuQx2rwc",
        "colab_type": "code",
        "colab": {},
        "outputId": "1c3498f1-8325-4590-8db9-c25325f562a1"
      },
      "source": [
        "ratings_df.head()"
      ],
      "execution_count": null,
      "outputs": [
        {
          "output_type": "execute_result",
          "data": {
            "text/plain": [
              "   score                                                doc\n",
              "0    4.0  A beautiful place to dine in.The interiors tak...\n",
              "1    4.0  I was here for dinner with my family on a week...\n",
              "2    2.0  Its a restaurant near to Banashankari BDA. Me ...\n",
              "3    4.0  We went here on a weekend and one of us had th...\n",
              "4    5.0  The best thing about the place is itÃÃÃÃ..."
            ],
            "text/html": [
              "<div>\n",
              "<style scoped>\n",
              "    .dataframe tbody tr th:only-of-type {\n",
              "        vertical-align: middle;\n",
              "    }\n",
              "\n",
              "    .dataframe tbody tr th {\n",
              "        vertical-align: top;\n",
              "    }\n",
              "\n",
              "    .dataframe thead th {\n",
              "        text-align: right;\n",
              "    }\n",
              "</style>\n",
              "<table border=\"1\" class=\"dataframe\">\n",
              "  <thead>\n",
              "    <tr style=\"text-align: right;\">\n",
              "      <th></th>\n",
              "      <th>score</th>\n",
              "      <th>doc</th>\n",
              "    </tr>\n",
              "  </thead>\n",
              "  <tbody>\n",
              "    <tr>\n",
              "      <th>0</th>\n",
              "      <td>4.0</td>\n",
              "      <td>A beautiful place to dine in.The interiors tak...</td>\n",
              "    </tr>\n",
              "    <tr>\n",
              "      <th>1</th>\n",
              "      <td>4.0</td>\n",
              "      <td>I was here for dinner with my family on a week...</td>\n",
              "    </tr>\n",
              "    <tr>\n",
              "      <th>2</th>\n",
              "      <td>2.0</td>\n",
              "      <td>Its a restaurant near to Banashankari BDA. Me ...</td>\n",
              "    </tr>\n",
              "    <tr>\n",
              "      <th>3</th>\n",
              "      <td>4.0</td>\n",
              "      <td>We went here on a weekend and one of us had th...</td>\n",
              "    </tr>\n",
              "    <tr>\n",
              "      <th>4</th>\n",
              "      <td>5.0</td>\n",
              "      <td>The best thing about the place is itÃÃÃÃ...</td>\n",
              "    </tr>\n",
              "  </tbody>\n",
              "</table>\n",
              "</div>"
            ]
          },
          "metadata": {
            "tags": []
          },
          "execution_count": 18
        }
      ]
    },
    {
      "cell_type": "code",
      "metadata": {
        "trusted": true,
        "id": "0hCmxFTo2rwd",
        "colab_type": "code",
        "colab": {}
      },
      "source": [
        "## Lower Casing\n",
        "ratings_df['review'] = ratings_df['doc'].str.lower()"
      ],
      "execution_count": null,
      "outputs": []
    },
    {
      "cell_type": "code",
      "metadata": {
        "trusted": true,
        "id": "o9A-Z8uT2rwf",
        "colab_type": "code",
        "colab": {}
      },
      "source": [
        "import string\n",
        "PUNCT_TO_REMOVE = string.punctuation\n",
        "def remove_punctuation(text):\n",
        "    \"\"\"custom function to remove the punctuation\"\"\"\n",
        "    return text.translate(str.maketrans('', '', PUNCT_TO_REMOVE))\n",
        "\n",
        "ratings_df['review'] = ratings_df['review'].apply(lambda text: remove_punctuation(text))"
      ],
      "execution_count": null,
      "outputs": []
    },
    {
      "cell_type": "code",
      "metadata": {
        "trusted": true,
        "id": "lhbygaP-2rwh",
        "colab_type": "code",
        "colab": {}
      },
      "source": [
        "ratings_df=ratings_df.drop(['doc'],axis=1) "
      ],
      "execution_count": null,
      "outputs": []
    },
    {
      "cell_type": "code",
      "metadata": {
        "trusted": true,
        "id": "R0AmcDXI2rwj",
        "colab_type": "code",
        "colab": {},
        "outputId": "71ef8d30-ff47-4033-cbee-d132d8c7b0f2"
      },
      "source": [
        "## Removal of Stopwords\n",
        "from nltk.corpus import stopwords\n",
        "STOPWORDS = set(stopwords.words('english'))\n",
        "def remove_stopwords(text):\n",
        "    \"\"\"custom function to remove the stopwords\"\"\"\n",
        "    return \" \".join([word for word in str(text).split() if word not in STOPWORDS])\n",
        "\n",
        "ratings_df['review'] = ratings_df['review'].apply(lambda text: remove_stopwords(text))\n",
        "ratings_df.sample()"
      ],
      "execution_count": null,
      "outputs": [
        {
          "output_type": "execute_result",
          "data": {
            "text/plain": [
              "        score                                             review\n",
              "503427    2.0  went place 3 years came friends long distance ..."
            ],
            "text/html": [
              "<div>\n",
              "<style scoped>\n",
              "    .dataframe tbody tr th:only-of-type {\n",
              "        vertical-align: middle;\n",
              "    }\n",
              "\n",
              "    .dataframe tbody tr th {\n",
              "        vertical-align: top;\n",
              "    }\n",
              "\n",
              "    .dataframe thead th {\n",
              "        text-align: right;\n",
              "    }\n",
              "</style>\n",
              "<table border=\"1\" class=\"dataframe\">\n",
              "  <thead>\n",
              "    <tr style=\"text-align: right;\">\n",
              "      <th></th>\n",
              "      <th>score</th>\n",
              "      <th>review</th>\n",
              "    </tr>\n",
              "  </thead>\n",
              "  <tbody>\n",
              "    <tr>\n",
              "      <th>503427</th>\n",
              "      <td>2.0</td>\n",
              "      <td>went place 3 years came friends long distance ...</td>\n",
              "    </tr>\n",
              "  </tbody>\n",
              "</table>\n",
              "</div>"
            ]
          },
          "metadata": {
            "tags": []
          },
          "execution_count": 22
        }
      ]
    },
    {
      "cell_type": "code",
      "metadata": {
        "trusted": true,
        "id": "F4IKy2222rwl",
        "colab_type": "code",
        "colab": {},
        "outputId": "9248e752-8240-40e6-896b-b02a1ce0bf19"
      },
      "source": [
        "## Removal of urls\n",
        "def remove_urls(text):\n",
        "    url_pattern = re.compile(r'https?://\\S+|www\\.\\S+')\n",
        "    return url_pattern.sub(r'', text)\n",
        "\n",
        "ratings_df['review'] = ratings_df['review'].apply(lambda text: remove_urls(text))\n",
        "ratings_df.sample(3)"
      ],
      "execution_count": null,
      "outputs": [
        {
          "output_type": "execute_result",
          "data": {
            "text/plain": [
              "         score                                             review\n",
              "1098351    1.0                                   ice cream melted\n",
              "304066     4.0                                               time\n",
              "1208647    5.0  pizzeria review taste iconic original neapolit..."
            ],
            "text/html": [
              "<div>\n",
              "<style scoped>\n",
              "    .dataframe tbody tr th:only-of-type {\n",
              "        vertical-align: middle;\n",
              "    }\n",
              "\n",
              "    .dataframe tbody tr th {\n",
              "        vertical-align: top;\n",
              "    }\n",
              "\n",
              "    .dataframe thead th {\n",
              "        text-align: right;\n",
              "    }\n",
              "</style>\n",
              "<table border=\"1\" class=\"dataframe\">\n",
              "  <thead>\n",
              "    <tr style=\"text-align: right;\">\n",
              "      <th></th>\n",
              "      <th>score</th>\n",
              "      <th>review</th>\n",
              "    </tr>\n",
              "  </thead>\n",
              "  <tbody>\n",
              "    <tr>\n",
              "      <th>1098351</th>\n",
              "      <td>1.0</td>\n",
              "      <td>ice cream melted</td>\n",
              "    </tr>\n",
              "    <tr>\n",
              "      <th>304066</th>\n",
              "      <td>4.0</td>\n",
              "      <td>time</td>\n",
              "    </tr>\n",
              "    <tr>\n",
              "      <th>1208647</th>\n",
              "      <td>5.0</td>\n",
              "      <td>pizzeria review taste iconic original neapolit...</td>\n",
              "    </tr>\n",
              "  </tbody>\n",
              "</table>\n",
              "</div>"
            ]
          },
          "metadata": {
            "tags": []
          },
          "execution_count": 23
        }
      ]
    },
    {
      "cell_type": "markdown",
      "metadata": {
        "id": "PhBgKuQc2rwo",
        "colab_type": "text"
      },
      "source": [
        "## One Hot Encoding"
      ]
    },
    {
      "cell_type": "markdown",
      "metadata": {
        "id": "JG-lMI6I2rwo",
        "colab_type": "text"
      },
      "source": [
        "Let's look at the distribution of ratings"
      ]
    },
    {
      "cell_type": "code",
      "metadata": {
        "trusted": true,
        "id": "H_yc9P1j2rwp",
        "colab_type": "code",
        "colab": {},
        "outputId": "be2e12ab-6c61-4323-cb69-7273f30cc505"
      },
      "source": [
        "ratings_df['score'].astype('category').value_counts()"
      ],
      "execution_count": null,
      "outputs": [
        {
          "output_type": "execute_result",
          "data": {
            "text/plain": [
              "4.0    397337\n",
              "5.0    372425\n",
              "3.0    178102\n",
              "1.0    149367\n",
              "2.0     65870\n",
              "3.5     55691\n",
              "4.5     50292\n",
              "2.5     17432\n",
              "1.5      9333\n",
              "Name: score, dtype: int64"
            ]
          },
          "metadata": {
            "tags": []
          },
          "execution_count": 24
        }
      ]
    },
    {
      "cell_type": "markdown",
      "metadata": {
        "id": "wiVkKDA62rwr",
        "colab_type": "text"
      },
      "source": [
        "Clearly this is categorical data, with some heavy class imbalance. This is something to address if you want to improve performance. We will go ahead and encode that into binary labels:"
      ]
    },
    {
      "cell_type": "code",
      "metadata": {
        "trusted": true,
        "id": "j5JIOfBe2rwr",
        "colab_type": "code",
        "colab": {},
        "outputId": "12935d77-bd0a-4f44-db86-6de8a6787c25"
      },
      "source": [
        "dummies = pd.get_dummies(ratings_df['score'])\n",
        "dummies.head()"
      ],
      "execution_count": null,
      "outputs": [
        {
          "output_type": "execute_result",
          "data": {
            "text/plain": [
              "   1.0  1.5  2.0  2.5  3.0  3.5  4.0  4.5  5.0\n",
              "0    0    0    0    0    0    0    1    0    0\n",
              "1    0    0    0    0    0    0    1    0    0\n",
              "2    0    0    1    0    0    0    0    0    0\n",
              "3    0    0    0    0    0    0    1    0    0\n",
              "4    0    0    0    0    0    0    0    0    1"
            ],
            "text/html": [
              "<div>\n",
              "<style scoped>\n",
              "    .dataframe tbody tr th:only-of-type {\n",
              "        vertical-align: middle;\n",
              "    }\n",
              "\n",
              "    .dataframe tbody tr th {\n",
              "        vertical-align: top;\n",
              "    }\n",
              "\n",
              "    .dataframe thead th {\n",
              "        text-align: right;\n",
              "    }\n",
              "</style>\n",
              "<table border=\"1\" class=\"dataframe\">\n",
              "  <thead>\n",
              "    <tr style=\"text-align: right;\">\n",
              "      <th></th>\n",
              "      <th>1.0</th>\n",
              "      <th>1.5</th>\n",
              "      <th>2.0</th>\n",
              "      <th>2.5</th>\n",
              "      <th>3.0</th>\n",
              "      <th>3.5</th>\n",
              "      <th>4.0</th>\n",
              "      <th>4.5</th>\n",
              "      <th>5.0</th>\n",
              "    </tr>\n",
              "  </thead>\n",
              "  <tbody>\n",
              "    <tr>\n",
              "      <th>0</th>\n",
              "      <td>0</td>\n",
              "      <td>0</td>\n",
              "      <td>0</td>\n",
              "      <td>0</td>\n",
              "      <td>0</td>\n",
              "      <td>0</td>\n",
              "      <td>1</td>\n",
              "      <td>0</td>\n",
              "      <td>0</td>\n",
              "    </tr>\n",
              "    <tr>\n",
              "      <th>1</th>\n",
              "      <td>0</td>\n",
              "      <td>0</td>\n",
              "      <td>0</td>\n",
              "      <td>0</td>\n",
              "      <td>0</td>\n",
              "      <td>0</td>\n",
              "      <td>1</td>\n",
              "      <td>0</td>\n",
              "      <td>0</td>\n",
              "    </tr>\n",
              "    <tr>\n",
              "      <th>2</th>\n",
              "      <td>0</td>\n",
              "      <td>0</td>\n",
              "      <td>1</td>\n",
              "      <td>0</td>\n",
              "      <td>0</td>\n",
              "      <td>0</td>\n",
              "      <td>0</td>\n",
              "      <td>0</td>\n",
              "      <td>0</td>\n",
              "    </tr>\n",
              "    <tr>\n",
              "      <th>3</th>\n",
              "      <td>0</td>\n",
              "      <td>0</td>\n",
              "      <td>0</td>\n",
              "      <td>0</td>\n",
              "      <td>0</td>\n",
              "      <td>0</td>\n",
              "      <td>1</td>\n",
              "      <td>0</td>\n",
              "      <td>0</td>\n",
              "    </tr>\n",
              "    <tr>\n",
              "      <th>4</th>\n",
              "      <td>0</td>\n",
              "      <td>0</td>\n",
              "      <td>0</td>\n",
              "      <td>0</td>\n",
              "      <td>0</td>\n",
              "      <td>0</td>\n",
              "      <td>0</td>\n",
              "      <td>0</td>\n",
              "      <td>1</td>\n",
              "    </tr>\n",
              "  </tbody>\n",
              "</table>\n",
              "</div>"
            ]
          },
          "metadata": {
            "tags": []
          },
          "execution_count": 25
        }
      ]
    },
    {
      "cell_type": "markdown",
      "metadata": {
        "id": "kyKadAhG2rwt",
        "colab_type": "text"
      },
      "source": [
        "## Train Test Split\n",
        "\n",
        "Finally, we split the data into train and test sets; the latter will be used to evaluate our model."
      ]
    },
    {
      "cell_type": "code",
      "metadata": {
        "trusted": true,
        "id": "DiPv9JRN2rwt",
        "colab_type": "code",
        "colab": {}
      },
      "source": [
        "x_train, x_test, y_train, y_test = train_test_split(\n",
        "    ratings_df['review'], \n",
        "    dummies, \n",
        "    test_size=0.1, random_state=19\n",
        ")"
      ],
      "execution_count": null,
      "outputs": []
    },
    {
      "cell_type": "markdown",
      "metadata": {
        "id": "fRfPOHbY2rwv",
        "colab_type": "text"
      },
      "source": [
        "# Building an LSTM Model\n",
        "\n",
        "At this point, we are ready to build our model. Similar to the original kernel, we will go through the following steps:\n",
        "1. Fit the Keras Tokenizer\n",
        "2. Build an embedding matrix\n",
        "3. Tokenize and pad our training data\n",
        "4. Train the model\n",
        "\n",
        "Once we are done training the model, we evaluate how well it performs. This part is covered in the next section."
      ]
    },
    {
      "cell_type": "markdown",
      "metadata": {
        "id": "H99oQFNa2rwv",
        "colab_type": "text"
      },
      "source": [
        "## Helper functions to create fasttext embedding"
      ]
    },
    {
      "cell_type": "code",
      "metadata": {
        "trusted": true,
        "id": "PbZlrelS2rwv",
        "colab_type": "code",
        "colab": {}
      },
      "source": [
        "def build_matrix(word_index, path):\n",
        "    def get_coefs(word, *arr):\n",
        "        return word, np.asarray(arr, dtype='float32')\n",
        "\n",
        "    def load_embeddings(path):\n",
        "        with open(path) as f:\n",
        "            embedding_index = {}\n",
        "            \n",
        "            for line in tqdm(f):\n",
        "                word, arr = get_coefs(*line.strip().split(' '))    \n",
        "                if word in word_index:\n",
        "                    embedding_index[word] = arr\n",
        "            \n",
        "        return embedding_index\n",
        "\n",
        "    embedding_index = load_embeddings(path)\n",
        "    embedding_matrix = np.zeros((len(word_index) + 1, 300))\n",
        "    \n",
        "    for word, i in tqdm(word_index.items()):\n",
        "        try:\n",
        "            embedding_matrix[i] = embedding_index[word]\n",
        "        except KeyError:\n",
        "            pass\n",
        "    return embedding_matrix"
      ],
      "execution_count": null,
      "outputs": []
    },
    {
      "cell_type": "code",
      "metadata": {
        "trusted": true,
        "id": "V4kS_2v12rwx",
        "colab_type": "code",
        "colab": {}
      },
      "source": [
        "def build_model(embedding_matrix):\n",
        "    words = Input(shape=(None,))\n",
        "    x = Embedding(*embedding_matrix.shape, weights=[embedding_matrix], trainable=False)(words)\n",
        "    x = SpatialDropout1D(0.3)(x)\n",
        "    x = Bidirectional(CuDNNLSTM(256, return_sequences=True))(x)\n",
        "\n",
        "    hidden = concatenate([\n",
        "        GlobalMaxPooling1D()(x),\n",
        "        GlobalAveragePooling1D()(x),\n",
        "    ])\n",
        "    hidden = Dense(512, activation='relu')(hidden)\n",
        "    result = Dense(9, activation='softmax')(hidden)\n",
        "    \n",
        "    model = Model(inputs=words, outputs=result)\n",
        "    model.compile(\n",
        "        loss='categorical_crossentropy', \n",
        "        optimizer='adam',\n",
        "        metrics=['accuracy']\n",
        "    )\n",
        "\n",
        "    return model"
      ],
      "execution_count": null,
      "outputs": []
    },
    {
      "cell_type": "markdown",
      "metadata": {
        "id": "Opgr4erW2rw0",
        "colab_type": "text"
      },
      "source": [
        "## Creating the tokenizer"
      ]
    },
    {
      "cell_type": "code",
      "metadata": {
        "trusted": true,
        "id": "-vnpP5kV2rw1",
        "colab_type": "code",
        "colab": {},
        "outputId": "8bc2fa83-f1b7-448e-925a-db588addc61c"
      },
      "source": [
        "%%time\n",
        "CHARS_TO_REMOVE = '!\"#$%&()*+,-./:;<=>?@[\\\\]^_`{|}~\\t\\n“”’\\'∞θ÷α•à−β∅³π‘₹´°£€\\×™√²—'\n",
        "tokenizer = text.Tokenizer(filters=CHARS_TO_REMOVE)\n",
        "tokenizer.fit_on_texts(list(x_train) + list(x_test))"
      ],
      "execution_count": null,
      "outputs": [
        {
          "output_type": "stream",
          "text": [
            "CPU times: user 1min 11s, sys: 22.9 ms, total: 1min 11s\n",
            "Wall time: 1min 12s\n"
          ],
          "name": "stdout"
        }
      ]
    },
    {
      "cell_type": "code",
      "metadata": {
        "trusted": true,
        "id": "2T7XnmdF2rw3",
        "colab_type": "code",
        "colab": {},
        "outputId": "1fab5f7e-bc98-42ca-c537-0a27a502c70f"
      },
      "source": [
        "embedding_matrix = build_matrix(tokenizer.word_index, '../input/fasttext-crawl-300d-2m/crawl-300d-2M.vec')"
      ],
      "execution_count": null,
      "outputs": [
        {
          "output_type": "stream",
          "text": [
            "2000001it [04:28, 7440.23it/s]\n",
            "100%|██████████| 100933/100933 [00:00<00:00, 347972.21it/s]\n"
          ],
          "name": "stderr"
        }
      ]
    },
    {
      "cell_type": "code",
      "metadata": {
        "trusted": true,
        "id": "kpp6ylXO2rw5",
        "colab_type": "code",
        "colab": {}
      },
      "source": [
        "x_train = tokenizer.texts_to_sequences(x_train)\n",
        "x_test = tokenizer.texts_to_sequences(x_test)\n",
        "x_train = sequence.pad_sequences(x_train, maxlen=384)\n",
        "x_test = sequence.pad_sequences(x_test, maxlen=384)"
      ],
      "execution_count": null,
      "outputs": []
    },
    {
      "cell_type": "markdown",
      "metadata": {
        "id": "WvMBxKcY2rw7",
        "colab_type": "text"
      },
      "source": [
        "## Training"
      ]
    },
    {
      "cell_type": "code",
      "metadata": {
        "trusted": true,
        "id": "B5zBRI_Y2rw7",
        "colab_type": "code",
        "colab": {},
        "outputId": "ae1034c2-785e-40ee-fc1f-49893e622a16"
      },
      "source": [
        "model = build_model(embedding_matrix)\n",
        "model.summary()\n",
        "\n",
        "checkpoint = ModelCheckpoint(\n",
        "    'model.h5', \n",
        "    monitor='val_acc', \n",
        "    verbose=1, \n",
        "    save_best_only=True, \n",
        "    save_weights_only=False,\n",
        "    mode='auto'\n",
        ")\n",
        "\n",
        "history = model.fit(\n",
        "    x_train,\n",
        "    y_train,\n",
        "    batch_size=512,\n",
        "    callbacks=[checkpoint],\n",
        "    epochs=10,\n",
        "    validation_split=0.1\n",
        ")"
      ],
      "execution_count": null,
      "outputs": [
        {
          "output_type": "stream",
          "text": [
            "__________________________________________________________________________________________________\n",
            "Layer (type)                    Output Shape         Param #     Connected to                     \n",
            "==================================================================================================\n",
            "input_1 (InputLayer)            (None, None)         0                                            \n",
            "__________________________________________________________________________________________________\n",
            "embedding_1 (Embedding)         (None, None, 300)    30280200    input_1[0][0]                    \n",
            "__________________________________________________________________________________________________\n",
            "spatial_dropout1d_1 (SpatialDro (None, None, 300)    0           embedding_1[0][0]                \n",
            "__________________________________________________________________________________________________\n",
            "bidirectional_1 (Bidirectional) (None, None, 512)    1142784     spatial_dropout1d_1[0][0]        \n",
            "__________________________________________________________________________________________________\n",
            "global_max_pooling1d_1 (GlobalM (None, 512)          0           bidirectional_1[0][0]            \n",
            "__________________________________________________________________________________________________\n",
            "global_average_pooling1d_1 (Glo (None, 512)          0           bidirectional_1[0][0]            \n",
            "__________________________________________________________________________________________________\n",
            "concatenate_1 (Concatenate)     (None, 1024)         0           global_max_pooling1d_1[0][0]     \n",
            "                                                                 global_average_pooling1d_1[0][0] \n",
            "__________________________________________________________________________________________________\n",
            "dense_1 (Dense)                 (None, 512)          524800      concatenate_1[0][0]              \n",
            "__________________________________________________________________________________________________\n",
            "dense_2 (Dense)                 (None, 9)            4617        dense_1[0][0]                    \n",
            "==================================================================================================\n",
            "Total params: 31,952,401\n",
            "Trainable params: 1,672,201\n",
            "Non-trainable params: 30,280,200\n",
            "__________________________________________________________________________________________________\n",
            "Train on 1049637 samples, validate on 116627 samples\n",
            "Epoch 1/10\n",
            "1049637/1049637 [==============================] - 687s 655us/step - loss: 0.9478 - acc: 0.6451 - val_loss: 0.6368 - val_acc: 0.7801\n",
            "\n",
            "Epoch 00001: val_acc improved from -inf to 0.78012, saving model to model.h5\n",
            "Epoch 2/10\n",
            "1049637/1049637 [==============================] - 685s 653us/step - loss: 0.6022 - acc: 0.7875 - val_loss: 0.4353 - val_acc: 0.8541\n",
            "\n",
            "Epoch 00002: val_acc improved from 0.78012 to 0.85407, saving model to model.h5\n",
            "Epoch 3/10\n",
            "1049637/1049637 [==============================] - 685s 652us/step - loss: 0.4702 - acc: 0.8362 - val_loss: 0.3226 - val_acc: 0.8939\n",
            "\n",
            "Epoch 00003: val_acc improved from 0.85407 to 0.89391, saving model to model.h5\n",
            "Epoch 4/10\n",
            "1049637/1049637 [==============================] - 685s 653us/step - loss: 0.3953 - acc: 0.8630 - val_loss: 0.2734 - val_acc: 0.9111\n",
            "\n",
            "Epoch 00004: val_acc improved from 0.89391 to 0.91111, saving model to model.h5\n",
            "Epoch 5/10\n",
            "1049637/1049637 [==============================] - 685s 653us/step - loss: 0.3452 - acc: 0.8803 - val_loss: 0.2428 - val_acc: 0.9217\n",
            "\n",
            "Epoch 00005: val_acc improved from 0.91111 to 0.92170, saving model to model.h5\n",
            "Epoch 6/10\n",
            "1049637/1049637 [==============================] - 685s 653us/step - loss: 0.3116 - acc: 0.8917 - val_loss: 0.2155 - val_acc: 0.9305\n",
            "\n",
            "Epoch 00006: val_acc improved from 0.92170 to 0.93045, saving model to model.h5\n",
            "Epoch 7/10\n",
            "1049637/1049637 [==============================] - 685s 653us/step - loss: 0.2856 - acc: 0.9006 - val_loss: 0.2060 - val_acc: 0.9342\n",
            "\n",
            "Epoch 00007: val_acc improved from 0.93045 to 0.93423, saving model to model.h5\n",
            "Epoch 8/10\n",
            "1049637/1049637 [==============================] - 685s 653us/step - loss: 0.2641 - acc: 0.9079 - val_loss: 0.1842 - val_acc: 0.9404\n",
            "\n",
            "Epoch 00008: val_acc improved from 0.93423 to 0.94036, saving model to model.h5\n",
            "Epoch 9/10\n",
            "1049637/1049637 [==============================] - 686s 654us/step - loss: 0.2504 - acc: 0.9124 - val_loss: 0.1710 - val_acc: 0.9456\n",
            "\n",
            "Epoch 00009: val_acc improved from 0.94036 to 0.94559, saving model to model.h5\n",
            "Epoch 10/10\n",
            "1049637/1049637 [==============================] - 686s 654us/step - loss: 0.2362 - acc: 0.9175 - val_loss: 0.1660 - val_acc: 0.9473\n",
            "\n",
            "Epoch 00010: val_acc improved from 0.94559 to 0.94725, saving model to model.h5\n"
          ],
          "name": "stdout"
        }
      ]
    },
    {
      "cell_type": "markdown",
      "metadata": {
        "id": "nmHrAeiY2rw9",
        "colab_type": "text"
      },
      "source": [
        "# Evaluation"
      ]
    },
    {
      "cell_type": "markdown",
      "metadata": {
        "id": "4YHv2-DZ2rw9",
        "colab_type": "text"
      },
      "source": [
        "## Training history\n",
        "\n",
        "Let's take a look at how well the model is training."
      ]
    },
    {
      "cell_type": "code",
      "metadata": {
        "trusted": true,
        "_kg_hide-input": true,
        "id": "1obq81Hu2rw9",
        "colab_type": "code",
        "colab": {},
        "outputId": "1caf5f9b-98c4-4e21-f8c9-1937efb03b32"
      },
      "source": [
        "with open('history.json', 'w') as f:\n",
        "    json.dump(history.history, f)\n",
        "\n",
        "history_df = pd.DataFrame(history.history)\n",
        "history_df[['loss', 'val_loss']].plot()\n",
        "history_df[['acc', 'val_acc']].plot()"
      ],
      "execution_count": null,
      "outputs": [
        {
          "output_type": "execute_result",
          "data": {
            "text/plain": [
              "<matplotlib.axes._subplots.AxesSubplot at 0x7fe0e490c128>"
            ]
          },
          "metadata": {
            "tags": []
          },
          "execution_count": 33
        },
        {
          "output_type": "display_data",
          "data": {
            "text/plain": [
              "<Figure size 432x288 with 1 Axes>"
            ],
            "image/png": "[encoded data removed]"
          },
          "metadata": {
            "tags": [],
            "needs_background": "light"
          }
        },
        {
          "output_type": "display_data",
          "data": {
            "text/plain": [
              "<Figure size 432x288 with 1 Axes>"
            ],
            "image/png": "[encoded data removed]"
          },
          "metadata": {
            "tags": [],
            "needs_background": "light"
          }
        }
      ]
    },
    {
      "cell_type": "markdown",
      "metadata": {
        "id": "zVDU663720-4",
        "colab_type": "text"
      },
      "source": [
        "## End of the notebook"
      ]
    }
  ]
}